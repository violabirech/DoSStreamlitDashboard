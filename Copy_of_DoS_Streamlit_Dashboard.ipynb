{
  "nbformat": 4,
  "nbformat_minor": 0,
  "metadata": {
    "colab": {
      "private_outputs": true,
      "provenance": [],
      "authorship_tag": "ABX9TyMaGQy1HMGHCzoF5/qZIr9G",
      "include_colab_link": true
    },
    "kernelspec": {
      "name": "python3",
      "display_name": "Python 3"
    },
    "language_info": {
      "name": "python"
    }
  },
  "cells": [
    {
      "cell_type": "markdown",
      "metadata": {
        "id": "view-in-github",
        "colab_type": "text"
      },
      "source": [
        "<a href=\"https://colab.research.google.com/github/violabirech/DoSStreamlitDashboard/blob/main/Copy_of_DoS_Streamlit_Dashboard.ipynb\" target=\"_parent\"><img src=\"https://colab.research.google.com/assets/colab-badge.svg\" alt=\"Open In Colab\"/></a>"
      ]
    },
    {
      "cell_type": "code",
      "execution_count": null,
      "metadata": {
        "id": "0jvt0KpqpNc2"
      },
      "outputs": [],
      "source": [
        "!pip install streamlit\n",
        "\n",
        "import streamlit as st\n",
        "import pandas as pd\n",
        "import numpy as np\n",
        "from sklearn.ensemble import IsolationForest\n",
        "from sklearn.preprocessing import LabelEncoder, StandardScaler\n",
        "from sklearn.pipeline import Pipeline\n",
        "import matplotlib.pyplot as plt\n",
        "\n",
        "# --- Page Config ---\n",
        "st.set_page_config(page_title=\"DoS Anomaly Detection Dashboard\", layout=\"wide\")\n",
        "st.title(\"🚨 DoS Anomaly Detection Dashboard\")\n",
        "\n",
        "# --- Load Dataset ---\n",
        "@st.cache_data\n",
        "def load_data():\n",
        "    df = pd.read_csv(\"Clean_DOS_Capstone.csv\")\n",
        "    df = df[['packet_length', 'inter_arrival_time', 'protocol']]\n",
        "    df['protocol'] = LabelEncoder().fit_transform(df['protocol'])\n",
        "    return df\n",
        "\n",
        "df = load_data()\n",
        "st.success(\"✅ Loaded DoS dataset successfully!\")\n",
        "\n",
        "# --- Display Preview ---\n",
        "st.subheader(\"📋 Data Preview\")\n",
        "st.dataframe(df.head(10), use_container_width=True)\n",
        "\n",
        "# --- Isolation Forest Pipeline ---\n",
        "model_pipeline = Pipeline([\n",
        "    ('scaler', StandardScaler()),\n",
        "    ('model', IsolationForest(contamination=0.01, random_state=42))\n",
        "])\n",
        "\n",
        "model_pipeline.fit(df)\n",
        "df['anomaly'] = model_pipeline.predict(df)\n",
        "df['anomaly'] = df['anomaly'].map({1: 'Normal', -1: 'Anomaly'})\n",
        "\n",
        "# --- Visualization ---\n",
        "st.subheader(\"📊 Anomaly Detection Result\")\n",
        "\n",
        "anomaly_count = df['anomaly'].value_counts()\n",
        "st.write(\"🔍 Anomaly Distribution:\", anomaly_count.to_dict())\n",
        "\n",
        "chart_data = df.copy()\n",
        "chart_data['Index'] = np.arange(len(df))\n",
        "\n",
        "for feature in ['packet_length', 'inter_arrival_time']:\n",
        "    st.write(f\"### 📈 {feature} with Anomaly Overlay\")\n",
        "    fig, ax = plt.subplots()\n",
        "    normal = chart_data[chart_data['anomaly'] == 'Normal']\n",
        "    anomaly = chart_data[chart_data['anomaly'] == 'Anomaly']\n",
        "    ax.plot(normal['Index'], normal[feature], label='Normal', alpha=0.5)\n",
        "    ax.scatter(anomaly['Index'], anomaly[feature], color='red', label='Anomaly', s=10)\n",
        "    ax.set_xlabel(\"Packet Index\")\n",
        "    ax.set_ylabel(feature)\n",
        "    ax.legend()\n",
        "    st.pyplot(fig)\n",
        "\n",
        "# --- Summary ---\n",
        "st.subheader(\"🧾 Summary Statistics\")\n",
        "st.write(df.describe())\n",
        "\n",
        "st.caption(\"Built with ❤️ using Streamlit + Isolation Forest\")"
      ]
    },
    {
      "cell_type": "code",
      "source": [],
      "metadata": {
        "id": "Pdycil9E4UOW"
      },
      "execution_count": null,
      "outputs": []
    }
  ]
}